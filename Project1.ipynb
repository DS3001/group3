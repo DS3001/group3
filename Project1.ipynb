{
  "nbformat": 4,
  "nbformat_minor": 0,
  "metadata": {
    "colab": {
      "provenance": []
    },
    "kernelspec": {
      "name": "python3",
      "display_name": "Python 3"
    },
    "language_info": {
      "name": "python"
    }
  },
  "cells": [
    {
      "cell_type": "markdown",
      "source": [
        "Summary:\n",
        "\n",
        "Variable 1 - HAPPY = General Happiness\n",
        "\n",
        "Variable 2 - SATSOC / HAPROM / RELGENDR = Relationship Status\n",
        "\n",
        "Variable 3 - YEARLY = Yearly Wage before tax"
      ],
      "metadata": {
        "id": "vFXs0kLWXXKC"
      }
    },
    {
      "cell_type": "code",
      "source": [
        "#Data"
      ],
      "metadata": {
        "id": "abGWFt3pXbpL"
      },
      "execution_count": null,
      "outputs": []
    },
    {
      "cell_type": "markdown",
      "source": [
        "Results:"
      ],
      "metadata": {
        "id": "T9DgfkHaXdZY"
      }
    },
    {
      "cell_type": "markdown",
      "source": [
        "Conclusion:"
      ],
      "metadata": {
        "id": "dhHKPa1QXemp"
      }
    },
    {
      "cell_type": "markdown",
      "source": [
        "Appendix:"
      ],
      "metadata": {
        "id": "k00LUDYRXftE"
      }
    },
    {
      "cell_type": "markdown",
      "source": [],
      "metadata": {
        "id": "g5G5cfTJXY2c"
      }
    }
  ]
}