{
  "nbformat": 4,
  "nbformat_minor": 0,
  "metadata": {
    "colab": {
      "provenance": []
    },
    "kernelspec": {
      "name": "python3",
      "display_name": "Python 3"
    },
    "language_info": {
      "name": "python"
    }
  },
  "cells": [
    {
      "cell_type": "markdown",
      "source": [
        "Summary:\n",
        "\n",
        "Variable 1 - HAPPY = General Happiness\n",
        "\n",
        "Variable 2 - HEALTH = Health Status\n",
        "\n",
        "Variable 3 - PRESTG10 = prestige of occupation (scale 0-100)"
      ],
      "metadata": {
        "id": "vFXs0kLWXXKC"
      }
    },
    {
      "cell_type": "code",
      "source": [
        "#Data"
      ],
      "metadata": {
        "id": "abGWFt3pXbpL"
      },
      "execution_count": null,
      "outputs": []
    },
    {
      "cell_type": "markdown",
      "source": [
        "Results:"
      ],
      "metadata": {
        "id": "T9DgfkHaXdZY"
      }
    },
    {
      "cell_type": "markdown",
      "source": [
        "Conclusion:"
      ],
      "metadata": {
        "id": "dhHKPa1QXemp"
      }
    },
    {
      "cell_type": "markdown",
      "source": [
        "Appendix:"
      ],
      "metadata": {
        "id": "k00LUDYRXftE"
      }
    },
    {
      "cell_type": "markdown",
      "source": [],
      "metadata": {
        "id": "g5G5cfTJXY2c"
      }
    }
  ]
}